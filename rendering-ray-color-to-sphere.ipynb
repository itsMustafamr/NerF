{
 "cells": [
  {
   "cell_type": "code",
   "execution_count": 1,
   "metadata": {},
   "outputs": [
    {
     "name": "stderr",
     "output_type": "stream",
     "text": [
      "c:\\Users\\mrmoh\\anaconda3\\envs\\Nerf\\lib\\site-packages\\tqdm\\auto.py:22: TqdmWarning: IProgress not found. Please update jupyter and ipywidgets. See https://ipywidgets.readthedocs.io/en/stable/user_install.html\n",
      "  from .autonotebook import tqdm as notebook_tqdm\n"
     ]
    }
   ],
   "source": [
    "import numpy as np\n",
    "import matplotlib.pyplot as plt\n",
    "import torch"
   ]
  },
  {
   "cell_type": "code",
   "execution_count": 5,
   "metadata": {},
   "outputs": [
    {
     "data": {
      "text/plain": [
       "tensor([[[0., 0., 0.],\n",
       "         [0., 0., 0.],\n",
       "         [0., 0., 0.],\n",
       "         ...,\n",
       "         [0., 0., 0.],\n",
       "         [0., 0., 0.],\n",
       "         [0., 0., 0.]],\n",
       "\n",
       "        [[0., 0., 0.],\n",
       "         [0., 0., 0.],\n",
       "         [0., 0., 0.],\n",
       "         ...,\n",
       "         [0., 0., 0.],\n",
       "         [0., 0., 0.],\n",
       "         [0., 0., 0.]],\n",
       "\n",
       "        [[0., 0., 0.],\n",
       "         [0., 0., 0.],\n",
       "         [0., 0., 0.],\n",
       "         ...,\n",
       "         [0., 0., 0.],\n",
       "         [0., 0., 0.],\n",
       "         [0., 0., 0.]],\n",
       "\n",
       "        ...,\n",
       "\n",
       "        [[0., 0., 0.],\n",
       "         [0., 0., 0.],\n",
       "         [0., 0., 0.],\n",
       "         ...,\n",
       "         [0., 0., 0.],\n",
       "         [0., 0., 0.],\n",
       "         [0., 0., 0.]],\n",
       "\n",
       "        [[0., 0., 0.],\n",
       "         [0., 0., 0.],\n",
       "         [0., 0., 0.],\n",
       "         ...,\n",
       "         [0., 0., 0.],\n",
       "         [0., 0., 0.],\n",
       "         [0., 0., 0.]],\n",
       "\n",
       "        [[0., 0., 0.],\n",
       "         [0., 0., 0.],\n",
       "         [0., 0., 0.],\n",
       "         ...,\n",
       "         [0., 0., 0.],\n",
       "         [0., 0., 0.],\n",
       "         [0., 0., 0.]]])"
      ]
     },
     "execution_count": 5,
     "metadata": {},
     "output_type": "execute_result"
    }
   ],
   "source": [
    "torch.zeros((160000, 100, 3))"
   ]
  },
  {
   "cell_type": "code",
   "execution_count": 7,
   "metadata": {},
   "outputs": [
    {
     "data": {
      "text/plain": [
       "torch.Size([160000, 100, 3])"
      ]
     },
     "execution_count": 7,
     "metadata": {},
     "output_type": "execute_result"
    }
   ],
   "source": [
    "bb = torch.zeros((160000, 100, 3))\n",
    "bb.shape"
   ]
  },
  {
   "cell_type": "code",
   "execution_count": 8,
   "metadata": {},
   "outputs": [],
   "source": [
    "H = 400\n",
    "W = 400\n",
    "f = 1200\n"
   ]
  },
  {
   "cell_type": "code",
   "execution_count": 9,
   "metadata": {},
   "outputs": [],
   "source": [
    "rays_o = np.zeros((H*W, 3))\n",
    "rays_d = np.zeros((H*W, 3))\n",
    "\n",
    "u = np.arange(W)\n",
    "v = np.arange(H)\n",
    "u, v = np.meshgrid(u, v)\n",
    "\n",
    "dirs = np.stack((u - W / 2,\n",
    "                 -(v - H / 2),\n",
    "                 - np.ones_like(u) * f), axis=-1)\n",
    "rays_d = dirs / np.linalg.norm(dirs, axis=-1, keepdims=True)\n",
    "rays_d = rays_d.reshape(-1, 3)"
   ]
  },
  {
   "cell_type": "code",
   "execution_count": 10,
   "metadata": {},
   "outputs": [],
   "source": [
    "def plot_rays(o, d, t):\n",
    "    \n",
    "    fig = plt.figure(figsize=(12, 12))\n",
    "    ax = fig.gca(projection='3d')\n",
    "    \n",
    "    pt1 = o\n",
    "    pt2 = o + t * d\n",
    "    \n",
    "    for p1, p2 in zip(pt1[::100], pt2[::100]):\n",
    "        plt.plot([p1[0], p2[0]], [p1[1], p2[1]], [p1[2], p2[2]])\n",
    "    \n",
    "    \n",
    "    plt.show()"
   ]
  },
  {
   "cell_type": "code",
   "execution_count": 11,
   "metadata": {},
   "outputs": [],
   "source": [
    "class Sphere():\n",
    "    \n",
    "    def __init__(self, p, r, c):\n",
    "        self.p = p\n",
    "        self.r = r\n",
    "        self.c = c\n",
    "        \n",
    "    def intersect(self, x):\n",
    "        \n",
    "        # (x- xc)^2 + (y-yc)^2 + (z-zc)^2 <= r^2 (this is the main equation)\n",
    "        # (x- xc)^2 + (y-yc)^2 + (z-zc)^2 = r^2 - eqn of sphere but to get inside we give <.\n",
    "\n",
    "        learn = x[:, 0]**2 + x[:, 1]**2 + x[:, 2]**2 < self.r**2\n",
    "        #here x[:, 0] is x component, x[:, 1] is y component, x[:, 2] is z component of the ray\n",
    "        # here r**2 is the radius of the sphere in the x, y, z direction\n",
    "        # so if x[:, 0]**2 + x[:, 1]**2 + x[:, 2]**2 < self.r**2 is the condition for the ray to intersect the sphere or to be inside the sphere\n",
    "        # then the color of the ray will be the color ofthe sphere \n",
    "\n",
    "        # cond = x[:, 0]**2 + x[:,1]**2 + x[:, 2]**2 < self.r**2\n",
    "        #so any point that satisfies this condition is inside the sphere \n",
    "        cond = (x[:, 0] - self.p[0])**2 + (x[:, 1] - self.p[1])**2 + (x[:, 2] - self.p[2])**2 <= self.r**2\n",
    "        #taking in account the center of the sphere x0, y0, z0 - self.p[0], self.p[1], self.p[2]\n",
    "        num_rays = o.shape[0] # this is the number of rays\n",
    "        colors = np.zeros((num_rays, 3))\n",
    "        density = np.zeros((num_rays, 1)) # 1 cuz we only have one value for the density         \n",
    "        \n",
    "        colors[cond] = self.c # giving the ray the color of the sphere\n",
    "        density[cond] = 10 # giving the ray the density of the sphere\n",
    "        \n",
    "        return colors"
   ]
  },
  {
   "cell_type": "code",
   "execution_count": 12,
   "metadata": {},
   "outputs": [],
   "source": [
    "s = Sphere(np.array([0., 0., -1.]), .1, np.array([1., 0., 0.]))"
   ]
  },
  {
   "cell_type": "code",
   "execution_count": 13,
   "metadata": {},
   "outputs": [],
   "source": [
    "# def rendering(reays_o, rays_d, tn, tf):\n",
    "\n",
    "#     colors = np.zeros((reays_o.shape[0], 3))\n",
    "#     density = np.zeros((reays_o.shape[0], 1))\n",
    "\n",
    "#     for i in range(reays_o.shape[0]):\n",
    "#         colors[i] = s.intersect(reays_o[i])\n",
    "#         density[i] = 10\n",
    "\n",
    "#     return colors, density"
   ]
  },
  {
   "cell_type": "code",
   "execution_count": null,
   "metadata": {},
   "outputs": [],
   "source": []
  }
 ],
 "metadata": {
  "kernelspec": {
   "display_name": "Nerf",
   "language": "python",
   "name": "python3"
  },
  "language_info": {
   "codemirror_mode": {
    "name": "ipython",
    "version": 3
   },
   "file_extension": ".py",
   "mimetype": "text/x-python",
   "name": "python",
   "nbconvert_exporter": "python",
   "pygments_lexer": "ipython3",
   "version": "3.7.16"
  }
 },
 "nbformat": 4,
 "nbformat_minor": 2
}
