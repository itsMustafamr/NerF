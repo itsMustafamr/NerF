{
 "cells": [
  {
   "cell_type": "code",
   "execution_count": 8,
   "metadata": {},
   "outputs": [],
   "source": [
    "import torch\n",
    "import torch.nn as nn\n",
    "import numpy as np\n",
    "import imageio\n",
    "import matplotlib.pyplot as plt\n",
    "import os\n",
    "from torch.utils.data import DataLoader\n",
    "from rendering import rendering"
   ]
  },
  {
   "cell_type": "code",
   "execution_count": 2,
   "metadata": {},
   "outputs": [],
   "source": [
    "from dataset import get_rays"
   ]
  },
  {
   "cell_type": "markdown",
   "metadata": {},
   "source": [
    "# Camera/Dataset"
   ]
  },
  {
   "cell_type": "code",
   "execution_count": 3,
   "metadata": {},
   "outputs": [],
   "source": [
    "batch_size = 1024\n",
    "o, d, t = get_rays('fox', mode='train')\n",
    "dataloader = DataLoader(torch.cat((torch.from_numpy(o),\n",
    "                                    torch.from_numpy(d),\n",
    "                                     torch.from_numpy(t)), dim=1), batch_size=batch_size, shuffle=True)\n",
    "\n",
    "\n",
    "test_o, test_d, test_t = get_rays('fox', mode='test')"
   ]
  },
  {
   "cell_type": "code",
   "execution_count": 4,
   "metadata": {},
   "outputs": [
    {
     "data": {
      "text/plain": [
       "(10, 160000, 3)"
      ]
     },
     "execution_count": 4,
     "metadata": {},
     "output_type": "execute_result"
    }
   ],
   "source": [
    "test_o.shape"
   ]
  },
  {
   "cell_type": "code",
   "execution_count": 52,
   "metadata": {},
   "outputs": [],
   "source": [
    "# so we can say we have 10 test images and 400*400 images and 3 dimension"
   ]
  },
  {
   "cell_type": "markdown",
   "metadata": {},
   "source": [
    "# Rendering"
   ]
  },
  {
   "cell_type": "code",
   "execution_count": null,
   "metadata": {},
   "outputs": [],
   "source": []
  },
  {
   "cell_type": "markdown",
   "metadata": {},
   "source": [
    "# Model"
   ]
  },
  {
   "cell_type": "markdown",
   "metadata": {},
   "source": []
  },
  {
   "cell_type": "code",
   "execution_count": 9,
   "metadata": {},
   "outputs": [],
   "source": [
    "class Voxels(nn.Module):\n",
    "\n",
    "    def __init__(self):\n",
    "        super(Voxels, self).__init__()\n",
    "\n",
    "    def forward(self, x):\n",
    "        pass\n",
    "\n",
    "    def intersect(self, x):\n",
    "        pass"
   ]
  },
  {
   "cell_type": "code",
   "execution_count": null,
   "metadata": {},
   "outputs": [],
   "source": [
    "class Voxels(nn.Module):\n",
    "    \n",
    "    def __init__(self, nb_voxels=100, scale=1, device='cpu'):\n",
    "        super(Voxels, self).__init__()\n",
    "        \n",
    "        self.voxels = torch.nn.Parameter(torch.rand((nb_voxels, nb_voxels, nb_voxels, 4), \n",
    "                                                    device=device, requires_grad=True))\n",
    "        \n",
    "        self.nb_voxels = nb_voxels\n",
    "        self.device = device\n",
    "        self.scale = scale\n",
    "        \n",
    "    def forward(self, xyz):\n",
    "        \n",
    "        x = xyz[:, 0]\n",
    "        y = xyz[:, 1]\n",
    "        z = xyz[:, 2]\n",
    "        \n",
    "        cond = (x.abs() < (self.scale / 2)) & (y.abs() < (self.scale / 2)) & (z.abs() < (self.scale / 2))\n",
    "        \n",
    "        colors_and_densities = torch.zeros((xyz.shape[0], 4), device=xyz.device)\n",
    "        colors_and_densities[cond, :3] = self.voxels[indx, indy, indz, :3]\n",
    "        colors_and_densities[cond, -1] = self.voxels[indx, indy, indz, -1]\n",
    "         \n",
    "        return torch.sigmoid(colors_and_densities[:, :3]), torch.relu(colors_and_densities[:, -1:])\n",
    "        \n",
    "    \n",
    "    def intersect(self, x):\n",
    "       self.forward(x)\n"
   ]
  },
  {
   "cell_type": "code",
   "execution_count": null,
   "metadata": {},
   "outputs": [],
   "source": [
    "class Voxels(nn.Module):\n",
    "    \n",
    "    def __init__(self, nb_voxels=100, scale=1, device='cpu'):\n",
    "        super(Voxels, self).__init__()\n",
    "        \n",
    "        self.voxels = torch.nn.Parameter(torch.rand((nb_voxels, nb_voxels, nb_voxels, 4), \n",
    "                                                    device=device, requires_grad=True))\n",
    "        \n",
    "        self.nb_voxels = nb_voxels\n",
    "        self.device = device\n",
    "        self.scale = scale\n",
    "        \n",
    "    def forward(self, xyz, d):\n",
    "        \n",
    "        x = xyz[:, 0]\n",
    "        y = xyz[:, 1]\n",
    "        z = xyz[:, 2]\n",
    "        \n",
    "        cond = (x.abs() < (self.scale / 2)) & (y.abs() < (self.scale / 2)) & (z.abs() < (self.scale / 2))\n",
    "        \n",
    "        indx = (x[cond] / (self.scale / self.nb_voxels) + self.nb_voxels / 2).type(torch.long)\n",
    "        indy = (y[cond] / (self.scale / self.nb_voxels) + self.nb_voxels / 2).type(torch.long)\n",
    "        indz = (z[cond] / (self.scale / self.nb_voxels) + self.nb_voxels / 2).type(torch.long)\n",
    "        \n",
    "        colors_and_densities = torch.zeros((xyz.shape[0], 4), device=xyz.device)\n",
    "        colors_and_densities[cond, :3] = self.voxels[indx, indy, indz, :3]\n",
    "        colors_and_densities[cond, -1] = self.voxels[indx, indy, indz, -1]\n",
    "         \n",
    "        return torch.sigmoid(colors_and_densities[:, :3]), torch.relu(colors_and_densities[:, -1:])\n",
    "        \n",
    "    \n",
    "    def intersect(self, x, d):\n",
    "        return self.forward(x, d)\n"
   ]
  },
  {
   "cell_type": "markdown",
   "metadata": {},
   "source": [
    "# Training"
   ]
  },
  {
   "cell_type": "markdown",
   "metadata": {},
   "source": []
  }
 ],
 "metadata": {
  "kernelspec": {
   "display_name": "Nerf",
   "language": "python",
   "name": "python3"
  },
  "language_info": {
   "codemirror_mode": {
    "name": "ipython",
    "version": 3
   },
   "file_extension": ".py",
   "mimetype": "text/x-python",
   "name": "python",
   "nbconvert_exporter": "python",
   "pygments_lexer": "ipython3",
   "version": "3.9.20"
  }
 },
 "nbformat": 4,
 "nbformat_minor": 2
}
