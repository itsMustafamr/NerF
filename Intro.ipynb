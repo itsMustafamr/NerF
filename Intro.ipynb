{
 "cells": [
  {
   "cell_type": "code",
   "execution_count": 25,
   "metadata": {},
   "outputs": [],
   "source": [
    "import torch\n",
    "import numpy as np\n",
    "import tqdm as tqdm\n",
    "import matplotlib.pyplot as plt\n",
    "from simulator import simulator\n",
    "\n"
   ]
  },
  {
   "cell_type": "code",
   "execution_count": 26,
   "metadata": {},
   "outputs": [
    {
     "name": "stdout",
     "output_type": "stream",
     "text": [
      "tensor([20.0000, 20.3800, 10.0000,  0.3800])\n"
     ]
    }
   ],
   "source": [
    "initial_state = torch.tensor([0.0, 0.0, 10.0, 20.0])  # [x0, y0, v_x0, v_y0]\n",
    "result = simulator(initial_state, t=2)\n",
    "\n",
    "print(result)"
   ]
  },
  {
   "cell_type": "code",
   "execution_count": 27,
   "metadata": {},
   "outputs": [
    {
     "name": "stdout",
     "output_type": "stream",
     "text": [
      "tensor([ 30.0000, -12.1450,  10.0000, -19.4300])\n"
     ]
    }
   ],
   "source": [
    "x0 = torch.tensor([0, 2])\n",
    "v0 = torch.tensor([10, 10])\n",
    "\n",
    "x = torch.cat((x0, v0))\n",
    "y = simulator(x, t=3)\n",
    "\n",
    "print(y)"
   ]
  },
  {
   "cell_type": "code",
   "execution_count": 22,
   "metadata": {},
   "outputs": [],
   "source": [
    "all_pos = []\n",
    "for t in range(100):\n",
    "    y = simulator(x, t=t/30)\n",
    "    all_pos.append(y[:2].tolist())\n",
    "\n",
    "\n",
    "\n",
    "all_pos = np.array(all_pos)"
   ]
  },
  {
   "cell_type": "code",
   "execution_count": 23,
   "metadata": {},
   "outputs": [
    {
     "data": {
      "text/plain": [
       "<matplotlib.collections.PathCollection at 0x2bceed74508>"
      ]
     },
     "execution_count": 23,
     "metadata": {},
     "output_type": "execute_result"
    },
    {
     "data": {
      "image/png": "[encoded data removed]",
      "text/plain": [
       "<Figure size 640x480 with 1 Axes>"
      ]
     },
     "metadata": {},
     "output_type": "display_data"
    }
   ],
   "source": [
    "plt.scatter(all_pos[:, 0], all_pos[:, 1])"
   ]
  },
  {
   "cell_type": "code",
   "execution_count": 42,
   "metadata": {},
   "outputs": [],
   "source": [
    "#all_pos = all_pos.reshape((100,1))\n",
    "#all_pos.shape"
   ]
  },
  {
   "cell_type": "code",
   "execution_count": 20,
   "metadata": {},
   "outputs": [
    {
     "data": {
      "text/plain": [
       "(100, 2)"
      ]
     },
     "execution_count": 20,
     "metadata": {},
     "output_type": "execute_result"
    }
   ],
   "source": [
    "all_pos.shape"
   ]
  },
  {
   "cell_type": "code",
   "execution_count": 44,
   "metadata": {},
   "outputs": [
    {
     "data": {
      "text/plain": [
       "array([[ 30.        , -12.14500046],\n",
       "       [ 30.        , -12.14500046],\n",
       "       [ 30.        , -12.14500046],\n",
       "       [ 30.        , -12.14500046],\n",
       "       [ 30.        , -12.14500046],\n",
       "       [ 30.        , -12.14500046],\n",
       "       [ 30.        , -12.14500046],\n",
       "       [ 30.        , -12.14500046],\n",
       "       [ 30.        , -12.14500046],\n",
       "       [ 30.        , -12.14500046],\n",
       "       [ 30.        , -12.14500046],\n",
       "       [ 30.        , -12.14500046],\n",
       "       [ 30.        , -12.14500046],\n",
       "       [ 30.        , -12.14500046],\n",
       "       [ 30.        , -12.14500046],\n",
       "       [ 30.        , -12.14500046],\n",
       "       [ 30.        , -12.14500046],\n",
       "       [ 30.        , -12.14500046],\n",
       "       [ 30.        , -12.14500046],\n",
       "       [ 30.        , -12.14500046],\n",
       "       [ 30.        , -12.14500046],\n",
       "       [ 30.        , -12.14500046],\n",
       "       [ 30.        , -12.14500046],\n",
       "       [ 30.        , -12.14500046],\n",
       "       [ 30.        , -12.14500046],\n",
       "       [ 30.        , -12.14500046],\n",
       "       [ 30.        , -12.14500046],\n",
       "       [ 30.        , -12.14500046],\n",
       "       [ 30.        , -12.14500046],\n",
       "       [ 30.        , -12.14500046],\n",
       "       [ 30.        , -12.14500046],\n",
       "       [ 30.        , -12.14500046],\n",
       "       [ 30.        , -12.14500046],\n",
       "       [ 30.        , -12.14500046],\n",
       "       [ 30.        , -12.14500046],\n",
       "       [ 30.        , -12.14500046],\n",
       "       [ 30.        , -12.14500046],\n",
       "       [ 30.        , -12.14500046],\n",
       "       [ 30.        , -12.14500046],\n",
       "       [ 30.        , -12.14500046],\n",
       "       [ 30.        , -12.14500046],\n",
       "       [ 30.        , -12.14500046],\n",
       "       [ 30.        , -12.14500046],\n",
       "       [ 30.        , -12.14500046],\n",
       "       [ 30.        , -12.14500046],\n",
       "       [ 30.        , -12.14500046],\n",
       "       [ 30.        , -12.14500046],\n",
       "       [ 30.        , -12.14500046],\n",
       "       [ 30.        , -12.14500046],\n",
       "       [ 30.        , -12.14500046],\n",
       "       [ 30.        , -12.14500046],\n",
       "       [ 30.        , -12.14500046],\n",
       "       [ 30.        , -12.14500046],\n",
       "       [ 30.        , -12.14500046],\n",
       "       [ 30.        , -12.14500046],\n",
       "       [ 30.        , -12.14500046],\n",
       "       [ 30.        , -12.14500046],\n",
       "       [ 30.        , -12.14500046],\n",
       "       [ 30.        , -12.14500046],\n",
       "       [ 30.        , -12.14500046],\n",
       "       [ 30.        , -12.14500046],\n",
       "       [ 30.        , -12.14500046],\n",
       "       [ 30.        , -12.14500046],\n",
       "       [ 30.        , -12.14500046],\n",
       "       [ 30.        , -12.14500046],\n",
       "       [ 30.        , -12.14500046],\n",
       "       [ 30.        , -12.14500046],\n",
       "       [ 30.        , -12.14500046],\n",
       "       [ 30.        , -12.14500046],\n",
       "       [ 30.        , -12.14500046],\n",
       "       [ 30.        , -12.14500046],\n",
       "       [ 30.        , -12.14500046],\n",
       "       [ 30.        , -12.14500046],\n",
       "       [ 30.        , -12.14500046],\n",
       "       [ 30.        , -12.14500046],\n",
       "       [ 30.        , -12.14500046],\n",
       "       [ 30.        , -12.14500046],\n",
       "       [ 30.        , -12.14500046],\n",
       "       [ 30.        , -12.14500046],\n",
       "       [ 30.        , -12.14500046],\n",
       "       [ 30.        , -12.14500046],\n",
       "       [ 30.        , -12.14500046],\n",
       "       [ 30.        , -12.14500046],\n",
       "       [ 30.        , -12.14500046],\n",
       "       [ 30.        , -12.14500046],\n",
       "       [ 30.        , -12.14500046],\n",
       "       [ 30.        , -12.14500046],\n",
       "       [ 30.        , -12.14500046],\n",
       "       [ 30.        , -12.14500046],\n",
       "       [ 30.        , -12.14500046],\n",
       "       [ 30.        , -12.14500046],\n",
       "       [ 30.        , -12.14500046],\n",
       "       [ 30.        , -12.14500046],\n",
       "       [ 30.        , -12.14500046],\n",
       "       [ 30.        , -12.14500046],\n",
       "       [ 30.        , -12.14500046],\n",
       "       [ 30.        , -12.14500046],\n",
       "       [ 30.        , -12.14500046],\n",
       "       [ 30.        , -12.14500046],\n",
       "       [ 30.        , -12.14500046]])"
      ]
     },
     "execution_count": 44,
     "metadata": {},
     "output_type": "execute_result"
    }
   ],
   "source": [
    "all_pos"
   ]
  },
  {
   "cell_type": "markdown",
   "metadata": {},
   "source": [
    "$| |A(x) - b| |_2^2$"
   ]
  },
  {
   "cell_type": "code",
   "execution_count": 24,
   "metadata": {},
   "outputs": [],
   "source": [
    "Ax = simulator(x, t=3)"
   ]
  },
  {
   "cell_type": "markdown",
   "metadata": {},
   "source": [
    "$\\arg \\min_x | |A(x) - b| |_2^2$"
   ]
  },
  {
   "cell_type": "code",
   "execution_count": null,
   "metadata": {},
   "outputs": [],
   "source": [
    "x = torch.tensor([0., 0., 0., 0.]), "
   ]
  }
 ],
 "metadata": {
  "kernelspec": {
   "display_name": "Nerf",
   "language": "python",
   "name": "python3"
  },
  "language_info": {
   "codemirror_mode": {
    "name": "ipython",
    "version": 3
   },
   "file_extension": ".py",
   "mimetype": "text/x-python",
   "name": "python",
   "nbconvert_exporter": "python",
   "pygments_lexer": "ipython3",
   "version": "3.7.16"
  }
 },
 "nbformat": 4,
 "nbformat_minor": 2
}
